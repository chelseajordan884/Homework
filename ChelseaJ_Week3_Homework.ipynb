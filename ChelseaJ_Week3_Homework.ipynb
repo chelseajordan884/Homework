<<<<<<< HEAD
{
 "cells": [
  {
   "cell_type": "markdown",
   "metadata": {},
   "source": [
    "# Python Homework - Chelsea J\n",
    "1. Series of steps to solve a problem at hand\n",
    "1. Can't start with numbers or an exclamation point\n",
    "1. When the code is grammatically correct but doesn't make any sense\n",
    "1. Complexity is the enemy of efficiency\n",
    "1. True, False, and, or, def"
   ]
  },
  {
   "cell_type": "code",
   "execution_count": 5,
   "metadata": {},
   "outputs": [
    {
     "name": "stdout",
     "output_type": "stream",
     "text": [
      "\n",
      "      My name is Chelsea.\n",
      "      My favorite food is pasta.\n",
      "      My dream job is to be a data analyst.\n",
      "      \n"
     ]
    }
   ],
   "source": [
    "#6\n",
    "print(\"\"\"\n",
    "      My name is Chelsea.\n",
    "      My favorite food is pasta.\n",
    "      My dream job is to be a data analyst.\n",
    "      \"\"\")"
   ]
  },
  {
   "cell_type": "code",
   "execution_count": 6,
   "metadata": {},
   "outputs": [
    {
     "name": "stdout",
     "output_type": "stream",
     "text": [
      "6\n",
      "o\n"
     ]
    }
   ],
   "source": [
    "#7\n",
    "random1 = 52\n",
    "random2 = \"Yellow\"\n",
    "random3 = 33.3\n",
    "random4 = True\n",
    "random5 = [\"dog\", \"cat\", \"tiger\", \"lion\"]\n",
    "\n",
    "print(len(random2))\n",
    "print(random2[4])"
   ]
  },
  {
   "cell_type": "code",
   "execution_count": 10,
   "metadata": {},
   "outputs": [
    {
     "name": "stdout",
     "output_type": "stream",
     "text": [
      "ing Data Analytics \n",
      "Learning Data Analytics and Python is Great\n"
     ]
    }
   ],
   "source": [
    "#8\n",
    "savvy = \"Learning Data Analytics and Python is Awesome!\"\n",
    "savvy= \"Learning Data Analytics and Python is Great!\"\n",
    "print(savvy[5:24])\n",
    "print(savvy)\n"
   ]
  },
  {
   "cell_type": "code",
   "execution_count": 12,
   "metadata": {},
   "outputs": [
    {
     "name": "stdout",
     "output_type": "stream",
     "text": [
      "\n",
      "        My name is Chelsea,\n",
      "        I am 5'3 tall,\n",
      "        I am 23.5 years old today.\n",
      "        \n"
     ]
    }
   ],
   "source": [
    "#9\n",
    "name = \"Chelsea\"\n",
    "age = 23.5\n",
    "length = \"5'3\"\n",
    "\n",
    "miniBio = f\"\"\"\n",
    "        My name is {name},\n",
    "        I am {length} tall,\n",
    "        I am {age} years old today.\n",
    "        \"\"\"\n",
    "\n",
    "print(miniBio)"
   ]
  },
  {
   "cell_type": "code",
   "execution_count": 21,
   "metadata": {},
   "outputs": [
    {
     "name": "stdout",
     "output_type": "stream",
     "text": [
      "[11, 'apple', 34.4, True, ['pink', 'purple', 'blue']]\n",
      "5\n",
      "[['apple', 34.4, True], 'yellow', 'orange', 25]\n",
      "['pear', 'lime', 'lemon', 'cherry', 'banana']\n"
     ]
    }
   ],
   "source": [
    "#10\n",
    "mixedData = [11, \"apple\", 34.4, False, [\"pink\", \"purple\", \"blue\"]]\n",
    "mixedData[3] = True\n",
    "print(mixedData)\n",
    "print(len(mixedData))\n",
    "\n",
    "mixedData[1:4]\n",
    "secondList = [mixedData[1:4], \"yellow\", \"orange\", 25]\n",
    "print(secondList)\n",
    "\n",
    "simlist = [\"banana\", \"cherry\", \"pear\", \"lime\", \"lemon\"]\n",
    "simlist.sort(reverse=True)\n",
    "print(simlist)\n",
    "thirdlist = simlist.copy()\n",
    "fourthlist = thirdlist + simlist"
   ]
  },
  {
   "cell_type": "code",
   "execution_count": 31,
   "metadata": {},
   "outputs": [
    {
     "name": "stdout",
     "output_type": "stream",
     "text": [
      "New Balance\n",
      "['Vans', 'Nike', 'Reebok', 'New Balance', 'Adidas', 'Vans', 'Nike', 'Reebok', 'New Balance', 'Adidas', 'Vans', 'Nike', 'Reebok', 'New Balance', 'Adidas']\n",
      "(50,)\n",
      "['Vans', 'Nike', 'Reebok', 'New Balance', 'Adidas', 'Vans', 'Nike', 'Reebok', 'New Balance', 'Adidas', 'Vans', 'Nike', 'Reebok', 'New Balance', 'Adidas', 'Vans', 'Nike', 'Reebok', 'New Balance', 'Adidas', 'Vans', 'Nike', 'Reebok', 'New Balance', 'Adidas', 'Vans', 'Nike', 'Reebok', 'New Balance', 'Adidas']\n"
     ]
    }
   ],
   "source": [
    "#11\n",
    "tup1 = [\"Vans\", \"Nike\", \"Reebok\", \"New Balance\", \"Adidas\"]\n",
    "tup2 = (tup1 * 3) \n",
    "print(tup2[13])\n",
    "sorted(tup1)\n",
    "\n",
    "\n",
    "import copy\n",
    "tup3 = copy.copy(tup2)\n",
    "print(tup3)\n",
    "\n",
    "tup4 = (50, )\n",
    "print(tup4)\n",
    "\n",
    "tup5 = tup2 + tup3\n",
    "print(tup5)\n",
    "\n",
    "\n",
    "\n",
    "\n",
    "\n"
   ]
  },
  {
   "cell_type": "code",
   "execution_count": 34,
   "metadata": {},
   "outputs": [
    {
     "name": "stdout",
     "output_type": "stream",
     "text": [
      "['pencil', 'eraser', 'pen', 'lime', 'lemon', 'strawberry']\n",
      "['pencil', 'eraser', 'pen', 'Nissan', 'bike', 'pillow', 'hat']\n",
      "[]\n",
      "['eraser', 'pen', 'Nissan', 'bike', 'hat']\n"
     ]
    }
   ],
   "source": [
    "#12\n",
    "elements = [\"pencil\", \"eraser\", \"pen\"]\n",
    "fruits = [\"lime\", \"lemon\", \"strawberry\"]\n",
    "print(elements + fruits)\n",
    "\n",
    "elements= [\"pencil\", \"eraser\", \"pen\", \"Nissan\"]\n",
    "secondset = [\"bike\", \"shoe\", \"pillow\", \"hat\"]\n",
    "thirdSet = elements + secondset\n",
    "\n",
    "thirdSet.pop(5)\n",
    "print(thirdSet)\n",
    "\n",
    "\n",
    "elements.clear()\n",
    "print(elements)\n",
    "\n",
    "thirdSet.pop(0)\n",
    "thirdSet.remove(\"pillow\")\n",
    "print(thirdSet)\n",
    "\n"
   ]
  },
  {
   "cell_type": "code",
   "execution_count": 46,
   "metadata": {},
   "outputs": [
    {
     "name": "stdout",
     "output_type": "stream",
     "text": [
      "92\n",
      "dict_keys(['number', 'city', 'float', 'water', 'Boolean', 'color', 'states'])\n",
      "dict_values([92, 'Chelsea', 44.3, ['lake', 'ocean', 'pool'], False, 'black', ['Illinois', 'Missouri', 'Florida']])\n",
      "{'number': 92, 'city': 'Chelsea', 'float': 44.3, 'water': ['lake', 'ocean', 'pool'], 'Boolean': False, 'color': 'black'}\n",
      "{}\n"
     ]
    }
   ],
   "source": [
    "#13\n",
    "anotherlist = {\n",
    "  \"number\": 92, \n",
    " \"city\": \"New York\", \n",
    " \"float\": 44.3, \n",
    "  \"water\": [\"lake\", \"ocean\", \"pool\"], \n",
    " \"Boolean\": False\n",
    " }\n",
    "print(anotherlist[\"number\"])\n",
    "anotherlist[\"city\"] = \"Chelsea\"\n",
    "anotherlist[\"color\"] = \"black\"\n",
    "anotherlist[\"states\"] = [\"Illinois\", \"Missouri\", \"Florida\"]\n",
    "\n",
    "print(anotherlist.keys())\n",
    "print(anotherlist.values())\n",
    "\n",
    "dictionary = anotherlist.copy()\n",
    "dictionary.popitem()\n",
    "print(dictionary)\n",
    "\n",
    "dictionary.clear()\n",
    "print(dictionary)\n"
   ]
  },
  {
   "cell_type": "code",
   "execution_count": null,
   "metadata": {},
   "outputs": [],
   "source": []
  }
 ],
 "metadata": {
  "kernelspec": {
   "display_name": "Python 3",
   "language": "python",
   "name": "python3"
  },
  "language_info": {
   "codemirror_mode": {
    "name": "ipython",
    "version": 3
   },
   "file_extension": ".py",
   "mimetype": "text/x-python",
   "name": "python",
   "nbconvert_exporter": "python",
   "pygments_lexer": "ipython3",
   "version": "3.11.5"
  }
 },
 "nbformat": 4,
 "nbformat_minor": 2
}
=======

>>>>>>> 6b9ca7be52ee297616e1d1c37f4b540736f09774
