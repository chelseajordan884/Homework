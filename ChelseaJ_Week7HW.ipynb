{
 "cells": [
  {
   "cell_type": "markdown",
   "metadata": {},
   "source": [
    "# 7.1 HW Questions\n",
    "Question 1\n",
    "\n",
    "#\n",
    "1. SELECT ModelYear, Make, Model\n",
    "\n",
    "    FROM EVRegistry\n",
    "\n",
    "Question 2\n",
    "\n",
    "1. SELECT  Distinct ElectricVehicleType\n",
    "    \n",
    "    FROM EVRegistry\n",
    "\n",
    "Question 3\n",
    "\n",
    "1. SELECT *\n",
    "\n",
    "     FROM EVRegistry \n",
    "    WHERE ElectricVehicleType = \"Battery Electric Vehicle (BEV)\";\n",
    "\n",
    "Question 4\n",
    "1. SELECT Make, Model\n",
    "    \n",
    "    FROM EVRegistry\n",
    "    \n",
    "    WHERE BaseMSRP > 20000 AND BaseMSRP < 35000;"
   ]
  },
  {
   "cell_type": "markdown",
   "metadata": {},
   "source": []
  }
 ],
 "metadata": {
  "kernelspec": {
   "display_name": "Python 3",
   "language": "python",
   "name": "python3"
  },
  "language_info": {
   "name": "python",
   "version": "3.11.5"
  }
 },
 "nbformat": 4,
 "nbformat_minor": 2
}
