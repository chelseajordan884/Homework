{
 "cells": [
  {
   "cell_type": "markdown",
   "metadata": {},
   "source": [
    "1. You would have to save your code  the file extension .py\n",
    "1. Math Module\n",
    "1. Can help you find errors\n",
    "1. Try, except, else, and finally\n",
    "1. lists\n",
    "1. uses less memory and storage\n",
    "1. All the elements have to be the same data type\n",
    "1. math operations and alternatives for lists\n",
    "1. Matplotlib\n",
    "1. is a tuple of non-negative integers that specify the dimensions, length and size of each array\n",
    "1. array with 3+ dimensions\n",
    "1. the combination of numpy with other libaries makes a variety of utilities for data wrangling and visualization\n",
    "1. memory\n",
    "\n",
    "\n"
   ]
  },
  {
   "cell_type": "code",
   "execution_count": 2,
   "metadata": {},
   "outputs": [
    {
     "name": "stdout",
     "output_type": "stream",
     "text": [
      "89\n"
     ]
    }
   ],
   "source": [
    "# example of using Math Module\n",
    "import math\n",
    "print(math.ceil(88.6))"
   ]
  },
  {
   "cell_type": "code",
   "execution_count": 8,
   "metadata": {},
   "outputs": [],
   "source": [
    "#1\n",
    "\n",
    "age = 14\n",
    "\n",
    "if age >=25:\n",
    "    print(\"Renting a car is more affordable\")\n",
    "    if age <=25:\n",
    "        print(\"Renting a car is very expensive\")\n",
    "\n"
   ]
  },
  {
   "cell_type": "code",
   "execution_count": 5,
   "metadata": {},
   "outputs": [
    {
     "name": "stdout",
     "output_type": "stream",
     "text": [
      "Renting a car is more affordable\n"
     ]
    }
   ],
   "source": [
    "#2\n",
    "age = 34\n",
    "if age >= 25:\n",
    "    print(\"Renting a car is more affordable\")\n",
    "elif age >= 18: \n",
    "    print(\"Renting a car is more affordable\")\n",
    "else:\n",
    "    print(\"You cannot legally rent a car\") \n"
   ]
  },
  {
   "cell_type": "code",
   "execution_count": 11,
   "metadata": {},
   "outputs": [
    {
     "name": "stdout",
     "output_type": "stream",
     "text": [
      "euioouoeeao\n",
      "43\n"
     ]
    }
   ],
   "source": [
    "#3\n",
    "string3 = \"The quick brown fox jumps over the lazy dog\"\n",
    "\n",
    "count = 0\n",
    "vowels = \"\"\n",
    "for char in string3:\n",
    "   if char.lower() in \"aeiou\":\n",
    "      vowels += char\n",
    "   \n",
    "print(vowels)\n",
    "print(len(string3))\n",
    "\n"
   ]
  },
  {
   "cell_type": "code",
   "execution_count": 23,
   "metadata": {},
   "outputs": [
    {
     "name": "stdout",
     "output_type": "stream",
     "text": [
      "trousers cerise\n",
      "trousers auburn\n",
      "trousers aqua\n",
      "trousers fuchsia\n",
      "trousers gunmetal blue\n",
      "trousers Dark Sapphire\n",
      "trousers maple\n",
      "trousers burnt sienna\n",
      "blouse cerise\n",
      "blouse auburn\n",
      "blouse aqua\n",
      "blouse fuchsia\n",
      "blouse gunmetal blue\n",
      "blouse Dark Sapphire\n",
      "blouse maple\n",
      "blouse burnt sienna\n",
      "bandana cerise\n",
      "bandana auburn\n",
      "bandana aqua\n",
      "bandana fuchsia\n",
      "bandana gunmetal blue\n",
      "bandana Dark Sapphire\n",
      "bandana maple\n",
      "bandana burnt sienna\n",
      "cumber band cerise\n",
      "cumber band auburn\n",
      "cumber band aqua\n",
      "cumber band fuchsia\n",
      "cumber band gunmetal blue\n",
      "cumber band Dark Sapphire\n",
      "cumber band maple\n",
      "cumber band burnt sienna\n",
      "blazer cerise\n",
      "blazer auburn\n",
      "blazer aqua\n",
      "blazer fuchsia\n",
      "blazer gunmetal blue\n",
      "blazer Dark Sapphire\n",
      "blazer maple\n",
      "blazer burnt sienna\n",
      "vest cerise\n",
      "vest auburn\n",
      "vest aqua\n",
      "vest fuchsia\n",
      "vest gunmetal blue\n",
      "vest Dark Sapphire\n",
      "vest maple\n",
      "vest burnt sienna\n",
      "french beret cerise\n",
      "french beret auburn\n",
      "french beret aqua\n",
      "french beret fuchsia\n",
      "french beret gunmetal blue\n",
      "french beret Dark Sapphire\n",
      "french beret maple\n",
      "french beret burnt sienna\n",
      "scarf cerise\n",
      "scarf auburn\n",
      "scarf aqua\n",
      "scarf fuchsia\n",
      "scarf gunmetal blue\n",
      "scarf Dark Sapphire\n",
      "scarf maple\n",
      "scarf burnt sienna\n",
      "stole cerise\n",
      "stole auburn\n",
      "stole aqua\n",
      "stole fuchsia\n",
      "stole gunmetal blue\n",
      "stole Dark Sapphire\n",
      "stole maple\n",
      "stole burnt sienna\n"
     ]
    }
   ],
   "source": [
    "couture = [\"trousers\", \"blouse\", \"bandana\", \"cumber band\", \"blazer\", \"vest\", \"french beret\", \"scarf\", \"stole\"] \n",
    "panettone = {\"cerise\", \"fuchsia\", \"aqua\", \"maple\", \"auburn\", \"burnt sienna\", \"gunmetal blue\", \"Dark Sapphire\"}\n",
    "\n",
    "for c in couture:\n",
    "    for p in panettone:\n",
    "        print(c,p)\n"
   ]
  },
  {
   "cell_type": "code",
   "execution_count": 16,
   "metadata": {},
   "outputs": [
    {
     "name": "stdout",
     "output_type": "stream",
     "text": [
      "5050\n"
     ]
    }
   ],
   "source": [
    "#5\n",
    "sumRange = sum(range(1,101))\n",
    "print(sumRange)\n"
   ]
  },
  {
   "cell_type": "code",
   "execution_count": 34,
   "metadata": {},
   "outputs": [
    {
     "name": "stdout",
     "output_type": "stream",
     "text": [
      "banana\n",
      "['kiwi', 'lemon', 'cherry', 'orange']\n"
     ]
    }
   ],
   "source": [
    "#6 - #10\n",
    "fruits = [\"apple\", \"banana\", \"cherry\"]\n",
    "print(fruits[1])\n",
    "\n",
    "fruits[0] = \"kiwi\"\n",
    "fruits.append(\"orange\")\n",
    "\n",
    "fruits.insert(1, \"lemon\")\n",
    "\n",
    "fruits.remove(\"banana\")\n",
    "\n",
    "\n"
   ]
  },
  {
   "cell_type": "code",
   "execution_count": 17,
   "metadata": {},
   "outputs": [
    {
     "name": "stdout",
     "output_type": "stream",
     "text": [
      "['kiwi', 'melon']\n",
      "['cherry', 'orange', 'kiwi']\n",
      "7\n",
      "['orange', 'melon', 'mango', 'kiwi', 'cherry', 'banana', 'apple']\n"
     ]
    }
   ],
   "source": [
    "#11 - #14\n",
    "fruits2 =  [\"apple\", \"banana\", \"cherry\", \"orange\", \"kiwi\", \"melon\", \"mango\"]\n",
    "print(fruits2[-3:-1])\n",
    "print(fruits2[2:5])\n",
    "print(len(fruits2))\n",
    "\n",
    "fruits2.sort(reverse=True)\n",
    "print(fruits2)\n"
   ]
  },
  {
   "cell_type": "code",
   "execution_count": 45,
   "metadata": {},
   "outputs": [
    {
     "data": {
      "text/plain": [
       "'November'"
      ]
     },
     "execution_count": 45,
     "metadata": {},
     "output_type": "execute_result"
    }
   ],
   "source": [
    "#15\n",
    "import datetime as dt\n",
    "d = dt.datetime.now()\n",
    "d.strftime(\"%B\")"
   ]
  },
  {
   "cell_type": "code",
   "execution_count": 1,
   "metadata": {},
   "outputs": [
    {
     "name": "stdout",
     "output_type": "stream",
     "text": [
      "Hi Chelsea! Happy Sunday!\n",
      "Hi Ryan! Happy Monday!\n"
     ]
    }
   ],
   "source": [
    "#16\n",
    "\n",
    "\n",
    "def name(name, day = \"Sunday\"):\n",
    "    print(f'Hi {name}! Happy {day}!')\n",
    "\n",
    "name(\"Chelsea\")\n",
    "name(\"Ryan\", \"Monday\")"
   ]
  },
  {
   "cell_type": "code",
   "execution_count": 3,
   "metadata": {},
   "outputs": [
    {
     "name": "stdout",
     "output_type": "stream",
     "text": [
      "Something went wrong\n",
      "THe 'try except is finished\n"
     ]
    }
   ],
   "source": [
    "#17\n",
    "try:\n",
    "    print(Chelsea)\n",
    "except:\n",
    "    print(\"Something went wrong\")\n",
    "else:\n",
    "    print(\"Nothing went wrong\")\n",
    "finally:\n",
    "    print(\"The 'try except' is finished\")"
   ]
  }
 ],
 "metadata": {
  "kernelspec": {
   "display_name": "Python 3",
   "language": "python",
   "name": "python3"
  },
  "language_info": {
   "codemirror_mode": {
    "name": "ipython",
    "version": 3
   },
   "file_extension": ".py",
   "mimetype": "text/x-python",
   "name": "python",
   "nbconvert_exporter": "python",
   "pygments_lexer": "ipython3",
   "version": "3.11.5"
  }
 },
 "nbformat": 4,
 "nbformat_minor": 2
}
